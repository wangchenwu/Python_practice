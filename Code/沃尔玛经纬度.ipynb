{
 "cells": [
  {
   "cell_type": "code",
   "execution_count": 3,
   "metadata": {
    "collapsed": true
   },
   "outputs": [],
   "source": [
    "import urllib  \n",
    "import requests\n",
    "from urllib.request import urlopen \n",
    "import bs4\n",
    "import json\n",
    "import numpy as np\n",
    "import pandas as pd\n",
    "from pandas import DataFrame\n",
    "\n",
    "# 应用Google api进行地址经纬度转换\n",
    "def getGeoForAddress(address):  \n",
    "    # address = \"中文地址\"  \n",
    "    addressUrl = \"http://maps.googleapis.com/maps/api/geocode/json?address=\" + address  \n",
    "    #中文url需要转码才能识别  \n",
    "    addressUrlQuote = urllib.parse.quote(addressUrl, safe=':?=/')  \n",
    "    response = urlopen(addressUrlQuote).read().decode('utf-8')  \n",
    "    responseJson = json.loads(response)  \n",
    "    #type of response is string  \n",
    "    # print(type(response))  \n",
    "    #type of responseJson is dict  \n",
    "    # print(type(responseJson))  \n",
    "    lat = responseJson.get('results')[0]['geometry']['location']['lat']  \n",
    "    lng = responseJson.get('results')[0]['geometry']['location']['lng']  \n",
    "    return [lat, lng]  \n",
    "# 从沃尔玛中国获取网站资料  \n",
    "url = 'http://www.wal-martchina.com/walmart/wminchina.htm'  \n",
    "response = urlopen(url)\n",
    "soup = bs4.BeautifulSoup(response, 'html.parser')\n",
    "store=''\n",
    "address=''\n",
    "tel=''\n",
    "# 分别存储店址店名，经纬度的字符串\n",
    "out_list = []\n",
    "ll_list = []\n",
    "\n",
    "# 获取店址店名的数据\n",
    "for table in soup.findAll('table', width=\"780\"):\n",
    "\n",
    "    for row in table.findAll('tr')[1:]:\n",
    "        cells=row.findAll('td')\n",
    "        if len(cells)==4:\n",
    "                store = cells[1].find(text=True)\n",
    "                address = cells[2].find(text=True)\n",
    "                tel = cells[3].find(text=True)\n",
    "                out_list.append([store, address])\n",
    "                \n",
    "        elif len(cells)==5:\n",
    "                store = cells[2].find(text=True)\n",
    "                address = cells[3].find(text=True)\n",
    "                tel = cells[4].find(text=True)\n",
    "                out_list.append([store, address])\n",
    "                \n",
    "        elif len(cells)==3:\n",
    "                store = cells[0].find(text=True)\n",
    "                address = cells[1].find(text=True)\n",
    "                tel = cells[2].find(text=True)\n",
    "                out_list.append([store, address])\n",
    "# 根据店名，店址计算经纬度，先用店名再用店址，两者都实现不了输出 No Results\n",
    "for i in range(0,len(out_list)):\n",
    "    try:\n",
    "        lat = getGeoForAddress(out_list[i][0])[0]\n",
    "        lng = getGeoForAddress(out_list[i][0])[1]\n",
    "    except ValueError:\n",
    "        lat= getGeoForAddress(out_list[i][1])[0]\n",
    "        lng = getGeoForAddress(out_list[i][1])[1]\n",
    "    except:\n",
    "        lat = \"No Results\"\n",
    "        lng = \"No Results\"\n",
    "    ll_list.append([lat,lng])\n",
    "\n",
    "# 将此前连个list合并并转化成array\n",
    "final_list = [x+y for x,y in zip(out_list, ll_list)]\n",
    "final_array = np.asarray(final_list)\n",
    "\n",
    "# 将array转化成dataframe存储\n",
    "df = DataFrame({\"店名\":final_array[:,0],\"店址\":final_array[:,1],\n",
    "                \"纬度\":final_array[:,2],\"经度\":final_array[:,3]})\n",
    "\n",
    "# 建立xlsx文件\n",
    "writer = pd.ExcelWriter('沃尔玛中国店址及经纬度.xlsx', engine='xlsxwriter')\n",
    "\n",
    "# 将dataframe写入已建好的Excel文件\n",
    "df.to_excel(writer, sheet_name='Sheet1',index=False)\n",
    "# 用户可以直接编辑使用Excel文件，检索所需内容"
   ]
  },
  {
   "cell_type": "code",
   "execution_count": null,
   "metadata": {
    "collapsed": true
   },
   "outputs": [],
   "source": []
  },
  {
   "cell_type": "code",
   "execution_count": null,
   "metadata": {
    "collapsed": true
   },
   "outputs": [],
   "source": []
  }
 ],
 "metadata": {
  "kernelspec": {
   "display_name": "Python 3",
   "language": "python",
   "name": "python3"
  },
  "language_info": {
   "codemirror_mode": {
    "name": "ipython",
    "version": 3
   },
   "file_extension": ".py",
   "mimetype": "text/x-python",
   "name": "python",
   "nbconvert_exporter": "python",
   "pygments_lexer": "ipython3",
   "version": "3.6.0"
  }
 },
 "nbformat": 4,
 "nbformat_minor": 2
}
